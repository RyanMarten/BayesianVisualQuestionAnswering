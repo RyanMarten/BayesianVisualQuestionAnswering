{
 "cells": [
  {
   "cell_type": "code",
   "execution_count": 13,
   "metadata": {},
   "outputs": [],
   "source": [
    "import SymbolicSolver\n",
    "import QuestionInference\n",
    "from gensim.models import KeyedVectors\n",
    "import numpy as np\n",
    "import pandas as pd\n",
    "from pyprob import InferenceEngine"
   ]
  },
  {
   "cell_type": "code",
   "execution_count": 14,
   "metadata": {},
   "outputs": [],
   "source": [
    "wv = KeyedVectors.load_word2vec_format(\"GoogleNews-vectors-negative300.bin\", binary=True)"
   ]
  },
  {
   "cell_type": "code",
   "execution_count": 21,
   "metadata": {},
   "outputs": [],
   "source": [
    "def get_answer_with_image_latent(question, image_latent):\n",
    "    model = QuestionInference.QuestionsGen()\n",
    "    posterior_dist = model.posterior(\n",
    "        num_traces=100,\n",
    "        inference_engine = InferenceEngine.IMPORTANCE_SAMPLING,\n",
    "        observe = {'observed_question': QuestionInference.text_to_vec(question)},\n",
    "        initial_trace=None\n",
    "    )\n",
    "    question_latent = posterior_dist.sample()[\"question_latent\"]\n",
    "    \n",
    "    return SymbolicSolver.solve(question_latent, image_latent)"
   ]
  },
  {
   "cell_type": "code",
   "execution_count": 22,
   "metadata": {},
   "outputs": [
    {
     "data": {
      "text/html": [
       "<div>\n",
       "<style scoped>\n",
       "    .dataframe tbody tr th:only-of-type {\n",
       "        vertical-align: middle;\n",
       "    }\n",
       "\n",
       "    .dataframe tbody tr th {\n",
       "        vertical-align: top;\n",
       "    }\n",
       "\n",
       "    .dataframe thead th {\n",
       "        text-align: right;\n",
       "    }\n",
       "</style>\n",
       "<table border=\"1\" class=\"dataframe\">\n",
       "  <thead>\n",
       "    <tr style=\"text-align: right;\">\n",
       "      <th></th>\n",
       "      <th>ID</th>\n",
       "      <th>X</th>\n",
       "      <th>Y</th>\n",
       "      <th>Color</th>\n",
       "      <th>Shape</th>\n",
       "    </tr>\n",
       "  </thead>\n",
       "  <tbody>\n",
       "    <tr>\n",
       "      <th>0</th>\n",
       "      <td>1</td>\n",
       "      <td>38</td>\n",
       "      <td>52</td>\n",
       "      <td>red</td>\n",
       "      <td>circle</td>\n",
       "    </tr>\n",
       "    <tr>\n",
       "      <th>1</th>\n",
       "      <td>2</td>\n",
       "      <td>21</td>\n",
       "      <td>17</td>\n",
       "      <td>green</td>\n",
       "      <td>rectangle</td>\n",
       "    </tr>\n",
       "    <tr>\n",
       "      <th>2</th>\n",
       "      <td>3</td>\n",
       "      <td>57</td>\n",
       "      <td>49</td>\n",
       "      <td>blue</td>\n",
       "      <td>circle</td>\n",
       "    </tr>\n",
       "    <tr>\n",
       "      <th>3</th>\n",
       "      <td>4</td>\n",
       "      <td>35</td>\n",
       "      <td>40</td>\n",
       "      <td>orange</td>\n",
       "      <td>rectangle</td>\n",
       "    </tr>\n",
       "    <tr>\n",
       "      <th>4</th>\n",
       "      <td>5</td>\n",
       "      <td>68</td>\n",
       "      <td>63</td>\n",
       "      <td>gray</td>\n",
       "      <td>circle</td>\n",
       "    </tr>\n",
       "    <tr>\n",
       "      <th>5</th>\n",
       "      <td>6</td>\n",
       "      <td>8</td>\n",
       "      <td>55</td>\n",
       "      <td>yellow</td>\n",
       "      <td>rectangle</td>\n",
       "    </tr>\n",
       "  </tbody>\n",
       "</table>\n",
       "</div>"
      ],
      "text/plain": [
       "   ID   X   Y   Color      Shape\n",
       "0   1  38  52     red     circle\n",
       "1   2  21  17   green  rectangle\n",
       "2   3  57  49    blue     circle\n",
       "3   4  35  40  orange  rectangle\n",
       "4   5  68  63    gray     circle\n",
       "5   6   8  55  yellow  rectangle"
      ]
     },
     "execution_count": 22,
     "metadata": {},
     "output_type": "execute_result"
    }
   ],
   "source": [
    "# set up an example image latent\n",
    "ids = [1, 2, 3, 4, 5, 6]\n",
    "Xs = [38, 21, 57, 35, 68, 8]\n",
    "Ys = [52, 17, 49, 40, 63, 55]\n",
    "colors = [\"red\", \"green\", \"blue\", \"orange\", \"gray\", \"yellow\"]\n",
    "shapes = [\"circle\", \"rectangle\", \"circle\", \"rectangle\", \"circle\", \"rectangle\"]\n",
    "image_latent = pd.DataFrame({\"ID\": ids, \"X\": Xs, \"Y\": Ys, \"Color\": colors, \"Shape\": shapes})\n",
    "image_latent"
   ]
  },
  {
   "cell_type": "code",
   "execution_count": 28,
   "metadata": {},
   "outputs": [
    {
     "name": "stdout",
     "output_type": "stream",
     "text": [
      "Time spent  | Time remain.| Progress             | Trace   | ESS   | Traces/sec\n",
      "0d:00:00:00 | 0d:00:00:00 | #################### | 100/100 |  6.00 | 877.19       \n"
     ]
    },
    {
     "data": {
      "text/plain": [
       "'circle'"
      ]
     },
     "execution_count": 28,
     "metadata": {},
     "output_type": "execute_result"
    }
   ],
   "source": [
    "get_answer_with_image_latent(\"What shape is the object closest to the blue object?\", image_latent)"
   ]
  },
  {
   "cell_type": "code",
   "execution_count": null,
   "metadata": {},
   "outputs": [],
   "source": []
  }
 ],
 "metadata": {
  "kernelspec": {
   "display_name": "Python 3",
   "language": "python",
   "name": "python3"
  },
  "language_info": {
   "codemirror_mode": {
    "name": "ipython",
    "version": 3
   },
   "file_extension": ".py",
   "mimetype": "text/x-python",
   "name": "python",
   "nbconvert_exporter": "python",
   "pygments_lexer": "ipython3",
   "version": "3.7.9"
  }
 },
 "nbformat": 4,
 "nbformat_minor": 4
}

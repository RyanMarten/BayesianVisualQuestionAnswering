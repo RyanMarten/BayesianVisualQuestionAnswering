{
 "cells": [
  {
   "cell_type": "code",
   "execution_count": 14,
   "id": "c3c9cf34",
   "metadata": {},
   "outputs": [],
   "source": [
    "import pandas as pd"
   ]
  },
  {
   "cell_type": "code",
   "execution_count": 9,
   "id": "d31ecede",
   "metadata": {},
   "outputs": [],
   "source": [
    "color_names = [\"red\", \"green\", \"blue\", \"orange\", \"gray\", \"yellow\"]\n",
    "image_size = 75"
   ]
  },
  {
   "cell_type": "code",
   "execution_count": 54,
   "id": "064a1601",
   "metadata": {},
   "outputs": [],
   "source": [
    "def solve(question_latent, image_latent):\n",
    "    \n",
    "    color_i = -1\n",
    "    for i in range(6):\n",
    "        if question_latent[i]:\n",
    "            color_i = i\n",
    "            break\n",
    "    color = color_names[color_i]\n",
    "    \n",
    "    if question_latent[6]:  # non-relational question\n",
    "        \n",
    "        if question_latent[8]:  # What shape is the {} object?\n",
    "            for index, row in image_latent.iterrows():\n",
    "                if row[\"Color\"] == color:\n",
    "                    return row[\"Shape\"]\n",
    "        elif question_latent[9]:  # Is the {} object on the left?\n",
    "            for index, row in image_latent.iterrows():\n",
    "                if row[\"Color\"] == color:\n",
    "                    return int(row[\"X\"] < image_size / 2)\n",
    "        elif question_latent[10]:  # Is the {} object on the top?\n",
    "            for index, row in image_latent.iterrows():\n",
    "                if row[\"Color\"] == color:\n",
    "                    return int(row[\"Y\"] < image_size / 2)\n",
    "        else:\n",
    "            raise RuntimeError(\"Invalid Question Latent\")\n",
    "        \n",
    "    elif question_latent[7]:  # relational question\n",
    "        \n",
    "        if question_latent[8]:  # What shape is the object closest to the {} object?\n",
    "            main_object = None\n",
    "            for index, row in image_latent.iterrows():\n",
    "                if row[\"Color\"] == color:\n",
    "                    main_object = row\n",
    "                    break\n",
    "            image_latent[\"distance\"] = image_latent.apply(lambda x: (x[\"X\"] - main_object[\"X\"])**2 + (x[\"Y\"] - x[\"Y\"])**2 if x[\"Color\"] != main_object[\"Color\"] else 9e10, axis=1)\n",
    "            closest_object = image_latent.loc[image_latent[\"distance\"].idxmin()]\n",
    "            return closest_object[\"Shape\"]\n",
    "        elif question_latent[9]:  # What shape is the object furthest from the {} object?\n",
    "            main_object = None\n",
    "            for index, row in image_latent.iterrows():\n",
    "                if row[\"Color\"] == color:\n",
    "                    main_object = row\n",
    "                    break\n",
    "            image_latent[\"distance\"] = image_latent.apply(lambda x: (x[\"X\"] - main_object[\"X\"])**2 + (x[\"Y\"] - x[\"Y\"])**2 if x[\"Color\"] != main_object[\"Color\"] else -9e10, axis=1)\n",
    "            farthest_object = image_latent.loc[image_latent[\"distance\"].idxmax()]\n",
    "            return farthest_object[\"Shape\"]\n",
    "        elif question_latent[10]:  # How many objects are the same shape as the {} object?\n",
    "            main_object = None\n",
    "            for index, row in image_latent.iterrows():\n",
    "                if row[\"Color\"] == color:\n",
    "                    main_object = row\n",
    "                    break\n",
    "            same_shape_count = -1\n",
    "            for index, row in image_latent.iterrows():\n",
    "                if row[\"Shape\"] == main_object[\"Shape\"]:\n",
    "                    same_shape_count += 1\n",
    "            return same_shape_count\n",
    "        else:\n",
    "            raise RuntimeError(\"Invalid Question Latent\")\n",
    "        \n",
    "    else:\n",
    "        raise RuntimeError(\"Invalid Question Latent\")"
   ]
  },
  {
   "cell_type": "code",
   "execution_count": 55,
   "id": "41b8afe7",
   "metadata": {},
   "outputs": [],
   "source": [
    "# set up an example image latent\n",
    "ids = [1, 2, 3, 4, 5, 6]\n",
    "Xs = [38, 21, 57, 35, 68, 8]\n",
    "Ys = [52, 17, 49, 40, 63, 55]\n",
    "colors = [\"red\", \"green\", \"blue\", \"orange\", \"gray\", \"yellow\"]\n",
    "shapes = [\"circle\", \"rectangle\", \"circle\", \"rectangle\", \"circle\", \"rectangle\"]\n",
    "image_latent = pd.DataFrame({\"ID\": ids, \"X\": Xs, \"Y\": Ys, \"Color\": colors, \"Shape\": shapes})"
   ]
  },
  {
   "cell_type": "code",
   "execution_count": 56,
   "id": "586a2920",
   "metadata": {},
   "outputs": [
    {
     "data": {
      "text/html": [
       "<div>\n",
       "<style scoped>\n",
       "    .dataframe tbody tr th:only-of-type {\n",
       "        vertical-align: middle;\n",
       "    }\n",
       "\n",
       "    .dataframe tbody tr th {\n",
       "        vertical-align: top;\n",
       "    }\n",
       "\n",
       "    .dataframe thead th {\n",
       "        text-align: right;\n",
       "    }\n",
       "</style>\n",
       "<table border=\"1\" class=\"dataframe\">\n",
       "  <thead>\n",
       "    <tr style=\"text-align: right;\">\n",
       "      <th></th>\n",
       "      <th>ID</th>\n",
       "      <th>X</th>\n",
       "      <th>Y</th>\n",
       "      <th>Color</th>\n",
       "      <th>Shape</th>\n",
       "    </tr>\n",
       "  </thead>\n",
       "  <tbody>\n",
       "    <tr>\n",
       "      <th>0</th>\n",
       "      <td>1</td>\n",
       "      <td>38</td>\n",
       "      <td>52</td>\n",
       "      <td>red</td>\n",
       "      <td>circle</td>\n",
       "    </tr>\n",
       "    <tr>\n",
       "      <th>1</th>\n",
       "      <td>2</td>\n",
       "      <td>21</td>\n",
       "      <td>17</td>\n",
       "      <td>green</td>\n",
       "      <td>rectangle</td>\n",
       "    </tr>\n",
       "    <tr>\n",
       "      <th>2</th>\n",
       "      <td>3</td>\n",
       "      <td>57</td>\n",
       "      <td>49</td>\n",
       "      <td>blue</td>\n",
       "      <td>circle</td>\n",
       "    </tr>\n",
       "    <tr>\n",
       "      <th>3</th>\n",
       "      <td>4</td>\n",
       "      <td>35</td>\n",
       "      <td>40</td>\n",
       "      <td>orange</td>\n",
       "      <td>rectangle</td>\n",
       "    </tr>\n",
       "    <tr>\n",
       "      <th>4</th>\n",
       "      <td>5</td>\n",
       "      <td>68</td>\n",
       "      <td>63</td>\n",
       "      <td>gray</td>\n",
       "      <td>circle</td>\n",
       "    </tr>\n",
       "    <tr>\n",
       "      <th>5</th>\n",
       "      <td>6</td>\n",
       "      <td>8</td>\n",
       "      <td>55</td>\n",
       "      <td>yellow</td>\n",
       "      <td>rectangle</td>\n",
       "    </tr>\n",
       "  </tbody>\n",
       "</table>\n",
       "</div>"
      ],
      "text/plain": [
       "   ID   X   Y   Color      Shape\n",
       "0   1  38  52     red     circle\n",
       "1   2  21  17   green  rectangle\n",
       "2   3  57  49    blue     circle\n",
       "3   4  35  40  orange  rectangle\n",
       "4   5  68  63    gray     circle\n",
       "5   6   8  55  yellow  rectangle"
      ]
     },
     "execution_count": 56,
     "metadata": {},
     "output_type": "execute_result"
    }
   ],
   "source": [
    "image_latent"
   ]
  },
  {
   "cell_type": "code",
   "execution_count": 59,
   "id": "e0a62bec",
   "metadata": {},
   "outputs": [],
   "source": [
    "question_latent = [0, 0, 0, 0, 0, 1, 0, 1, 1, 0, 0]"
   ]
  },
  {
   "cell_type": "code",
   "execution_count": 60,
   "id": "7d927509",
   "metadata": {},
   "outputs": [
    {
     "data": {
      "text/plain": [
       "'rectangle'"
      ]
     },
     "execution_count": 60,
     "metadata": {},
     "output_type": "execute_result"
    }
   ],
   "source": [
    "solve(question_latent, image_latent)"
   ]
  },
  {
   "cell_type": "code",
   "execution_count": null,
   "id": "6e61dcff",
   "metadata": {},
   "outputs": [],
   "source": []
  }
 ],
 "metadata": {
  "kernelspec": {
   "display_name": "Python 3",
   "language": "python",
   "name": "python3"
  },
  "language_info": {
   "codemirror_mode": {
    "name": "ipython",
    "version": 3
   },
   "file_extension": ".py",
   "mimetype": "text/x-python",
   "name": "python",
   "nbconvert_exporter": "python",
   "pygments_lexer": "ipython3",
   "version": "3.8.8"
  }
 },
 "nbformat": 4,
 "nbformat_minor": 5
}

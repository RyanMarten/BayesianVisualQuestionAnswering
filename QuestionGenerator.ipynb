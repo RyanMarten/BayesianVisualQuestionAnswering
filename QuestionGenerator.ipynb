{
 "cells": [
  {
   "cell_type": "code",
   "execution_count": 41,
   "id": "8cf49abe-e9df-439c-a6d7-f2b403707814",
   "metadata": {},
   "outputs": [],
   "source": [
    "import torch\n",
    "from gensim.models import KeyedVectors\n",
    "import pyprob #https://github.com/probprog/pyprob #!pip install pyprob\n",
    "from pyprob import Model \n",
    "from pyprob.distributions import Categorical, Uniform, Normal\n",
    "from pyprob import InferenceEngine\n",
    "import matplotlib.pyplot as plt"
   ]
  },
  {
   "cell_type": "code",
   "execution_count": 12,
   "id": "54cbcf59-61f6-4a9a-8f50-89aa38c33d50",
   "metadata": {},
   "outputs": [],
   "source": [
    "wv = KeyedVectors.load_word2vec_format(\"GoogleNews-vectors-negative300.bin\", binary=True)"
   ]
  },
  {
   "cell_type": "code",
   "execution_count": 2,
   "id": "07bb182d-e073-4d08-bbf7-b16755a7d827",
   "metadata": {
    "tags": []
   },
   "outputs": [],
   "source": [
    "# define global question template variables\n",
    "color_names = [\"red\", \"green\", \"blue\", \"orange\", \"gray\", \"yellow\"]\n",
    "non_relational_qs = [\n",
    "    \"What shape is the {} object?\",\n",
    "    \"Is the {} object on the left?\",\n",
    "    \"Is the {} object on the top?\"\n",
    "]\n",
    "relational_qs = [\n",
    "    \"What shape is the object closest to the {} object?\",\n",
    "    \"What shape is the object furthest from the {} object?\",\n",
    "    \"How many objects are the same shape as the {} object?\"\n",
    "]\n",
    "all_qs = [non_relational_qs, relational_qs]"
   ]
  },
  {
   "cell_type": "code",
   "execution_count": 10,
   "id": "cb8e9bee-c2ff-4fee-b825-feb25cc7391f",
   "metadata": {},
   "outputs": [],
   "source": [
    "def text_to_vec(text):\n",
    "    return torch.tensor([wv[w] for w in text.split() if w in wv]).mean(dim=0)"
   ]
  },
  {
   "cell_type": "code",
   "execution_count": 235,
   "id": "c6943567-3797-46ea-a65f-9b90545dc21c",
   "metadata": {},
   "outputs": [],
   "source": [
    "class QuestionsGen(Model):\n",
    "    def __init__(self, name=\"QuestionsModel\", opt=None):\n",
    "        super().__init__(name=name)\n",
    "        self.opt = opt\n",
    "        self.colors = 6\n",
    "        \n",
    "    def compile_question(self, color, qtype, qsubtype, template):\n",
    "        # compile a question latent\n",
    "        color_vec = [0, 0, 0, 0, 0, 0]\n",
    "        type_vec = [0, 0]\n",
    "        subtype_vec = [0, 0, 0]\n",
    "        color_vec[color] = 1\n",
    "        type_vec[qtype] = 1\n",
    "        subtype_vec[qsubtype] = 1\n",
    "        question_vec = color_vec + type_vec + subtype_vec\n",
    "        \n",
    "        # get the text of the question\n",
    "        question_text = all_qs[qtype][qsubtype].format(color_names[color])\n",
    "        \n",
    "        return question_text, question_vec\n",
    "        \n",
    "    def forward(self):\n",
    "        c_i = pyprob.sample(Categorical(logits=[1 for _ in range(self.colors)]))\n",
    "        t_i = pyprob.sample(Categorical(logits=(1,1)))\n",
    "        st_i = pyprob.sample(Categorical(logits=(1,1,1)))\n",
    "        tmp_i = pyprob.sample(Categorical(logits=(1,1)))\n",
    "        cand_q_text, cand_q_latent = self.compile_question(c_i, t_i, st_i, tmp_i)\n",
    "        pyprob.tag(cand_q_latent, name=\"question_latent\")\n",
    "        pyprob.tag(cand_q_text, name=\"question_text\")\n",
    "        cand_vec = text_to_vec(cand_q_text)\n",
    "        \n",
    "        pyprob.observe(Normal(cand_vec, 0.0001), name=\"observed_question\")\n",
    "        return cand_q_text, cand_q_latent\n",
    "\n",
    "    def question_likelihood(self, question_latent, question):\n",
    "        true_q_text = all_qs[qtype][qsubtype].format(color_names[color])\n",
    "        true_vec = torch.tensor([wv[w] for w in true_q_text.split()]).mean(dim=0)\n",
    "        cand_vec = torch.tensor([wv[w] for w in cand_q_text.split()]).mean(dim=0)\n",
    "        return"
   ]
  },
  {
   "cell_type": "code",
   "execution_count": 236,
   "id": "03c591a6-0b0b-4ae0-b081-649dd771fda0",
   "metadata": {},
   "outputs": [
    {
     "name": "stdout",
     "output_type": "stream",
     "text": [
      "Time spent  | Time remain.| Progress             | Trace   | ESS   | Traces/sec\n",
      "0d:00:00:00 | 0d:00:00:00 | #################### | 100/100 |  1.00 | 626.68       \n"
     ]
    }
   ],
   "source": [
    "model = QuestionsGen(Model)\n",
    "posterior_dist = model.posterior(\n",
    "    num_traces=100,\n",
    "    inference_engine = InferenceEngine.IMPORTANCE_SAMPLING,\n",
    "    observe = {'observed_question': text_to_vec(\"What shape is the object closest to the green object?\")},\n",
    "    initial_trace=None\n",
    ")"
   ]
  },
  {
   "cell_type": "code",
   "execution_count": 237,
   "id": "5f817a89-3944-46e5-9053-345551ec648b",
   "metadata": {},
   "outputs": [
    {
     "data": {
      "text/plain": [
       "tensor([ 0.0366,  0.0726,  0.1249,  0.0187, -0.1609,  0.0097,  0.0670, -0.1761,\n",
       "         0.0833,  0.0596, -0.0161, -0.0872, -0.0521,  0.0668, -0.0579,  0.0642,\n",
       "         0.0260,  0.0676,  0.0424, -0.0598, -0.0748,  0.0819, -0.0634, -0.0424,\n",
       "         0.0293,  0.0305, -0.1050,  0.0417,  0.0909, -0.0729,  0.0141, -0.0089,\n",
       "        -0.0165,  0.0069,  0.0512,  0.0149, -0.0076,  0.0275,  0.0228,  0.0790,\n",
       "        -0.0027, -0.0387,  0.0713, -0.0168, -0.0284, -0.0194, -0.0288, -0.0363,\n",
       "         0.0508,  0.0694, -0.0378,  0.0667, -0.0266, -0.0511,  0.0195,  0.0811,\n",
       "         0.0116, -0.1023,  0.0794, -0.0288, -0.0641,  0.0511, -0.1063, -0.0985,\n",
       "        -0.0550, -0.0478,  0.0095,  0.0657, -0.0705,  0.0923,  0.0228, -0.0708,\n",
       "         0.1691, -0.0529, -0.0665, -0.0604,  0.0918,  0.0684, -0.0146,  0.2277,\n",
       "         0.0756, -0.1240,  0.0429, -0.0115, -0.0397, -0.0699, -0.0526,  0.0286,\n",
       "         0.0602, -0.0271,  0.0320, -0.0122, -0.0460, -0.0234,  0.0305, -0.0123,\n",
       "         0.0504,  0.0492, -0.0045,  0.0370, -0.0335, -0.0209,  0.0193, -0.0077,\n",
       "        -0.0289, -0.0498,  0.0209,  0.0072, -0.0823, -0.1062, -0.0413, -0.0253,\n",
       "        -0.0070,  0.0802,  0.1064,  0.0524,  0.0753, -0.0343,  0.0128,  0.0686,\n",
       "        -0.0719, -0.0793, -0.0064,  0.0437, -0.0680,  0.0003, -0.0394, -0.0307,\n",
       "        -0.0012,  0.0366, -0.0736, -0.1227, -0.0791, -0.0329,  0.1205, -0.0821,\n",
       "        -0.0005, -0.0200,  0.0509,  0.0629,  0.0821, -0.0183, -0.0424, -0.0425,\n",
       "         0.0737,  0.0021, -0.0163, -0.0880, -0.0321, -0.0048,  0.0384,  0.0146,\n",
       "        -0.1186,  0.0674,  0.0419,  0.0055, -0.0621, -0.1371,  0.0057, -0.0096,\n",
       "        -0.0966,  0.0143,  0.0352, -0.0192, -0.0348,  0.0212,  0.0788, -0.0632,\n",
       "        -0.0225,  0.0150, -0.0815, -0.0215, -0.0024, -0.0042, -0.0782,  0.0259,\n",
       "         0.0693, -0.1179,  0.0080, -0.0277, -0.1007, -0.0234, -0.0459, -0.0144,\n",
       "        -0.0585, -0.0157,  0.0270,  0.0458,  0.0553,  0.0519,  0.0471,  0.0672,\n",
       "         0.0618, -0.0683, -0.0333, -0.0062, -0.0504,  0.0221, -0.0463, -0.1054,\n",
       "         0.0181,  0.0264, -0.0871, -0.0190, -0.0482,  0.0818, -0.0203,  0.0027,\n",
       "         0.0175, -0.0076, -0.0508,  0.0328, -0.0106,  0.0410, -0.1269,  0.0502,\n",
       "         0.0910, -0.0196, -0.0491,  0.1119,  0.0182, -0.0512, -0.0702,  0.0208,\n",
       "        -0.0470, -0.0384,  0.0357,  0.0787,  0.0656,  0.0473,  0.0574, -0.0754,\n",
       "         0.0798,  0.0511,  0.1022, -0.0456, -0.0147, -0.0905,  0.0423,  0.0206,\n",
       "         0.0785, -0.0703,  0.0187, -0.1616,  0.0492, -0.0760,  0.0989,  0.0522,\n",
       "         0.0672, -0.0480, -0.0200,  0.0133,  0.1117,  0.0562,  0.0720, -0.0806,\n",
       "        -0.0480,  0.0184, -0.0782, -0.0418,  0.0206, -0.0355, -0.1046, -0.0635,\n",
       "         0.1428,  0.1290, -0.0494, -0.0679, -0.0903,  0.0137, -0.0505,  0.0471,\n",
       "         0.0879,  0.0263, -0.0605, -0.0914, -0.0880, -0.2022, -0.0657,  0.0172,\n",
       "         0.0416,  0.0220, -0.0033,  0.0913, -0.0313,  0.0150, -0.1840, -0.0855,\n",
       "        -0.0219, -0.0153, -0.1702,  0.0558, -0.0694, -0.0485, -0.0416, -0.0234,\n",
       "        -0.0272,  0.0297,  0.0260,  0.0077])"
      ]
     },
     "execution_count": 237,
     "metadata": {},
     "output_type": "execute_result"
    }
   ],
   "source": [
    "text_to_vec(\"What shape is the object closest to the green object?\")"
   ]
  },
  {
   "cell_type": "code",
   "execution_count": 238,
   "id": "bfe39890-ea06-43aa-9b5f-8140dab42a0d",
   "metadata": {},
   "outputs": [
    {
     "data": {
      "text/plain": [
       "'What shape is the object closest to the green object?'"
      ]
     },
     "execution_count": 238,
     "metadata": {},
     "output_type": "execute_result"
    }
   ],
   "source": [
    "posterior_dist.sample()[\"question_text\"]"
   ]
  },
  {
   "cell_type": "code",
   "execution_count": 239,
   "id": "824842b5-c89f-4493-9468-0ff274a73a44",
   "metadata": {},
   "outputs": [
    {
     "data": {
      "text/plain": [
       "[0, 1, 0, 0, 0, 0, 0, 1, 1, 0, 0]"
      ]
     },
     "execution_count": 239,
     "metadata": {},
     "output_type": "execute_result"
    }
   ],
   "source": [
    "posterior_dist.sample()[\"question_latent\"]"
   ]
  },
  {
   "cell_type": "code",
   "execution_count": 210,
   "id": "b6901c64-e668-4135-9969-06da3bf8aaf9",
   "metadata": {},
   "outputs": [
    {
     "name": "stdout",
     "output_type": "stream",
     "text": [
      "('Is the green object on the top?', [0, 1, 0, 0, 0, 0, 1, 0, 0, 0, 1])\n",
      "('What shape is the object closest to the gray object?', [0, 0, 0, 0, 1, 0, 0, 1, 1, 0, 0])\n",
      "('What shape is the object closest to the green object?', [0, 1, 0, 0, 0, 0, 0, 1, 1, 0, 0])\n",
      "('Is the gray object on the left?', [0, 0, 0, 0, 1, 0, 1, 0, 0, 1, 0])\n",
      "('Is the blue object on the top?', [0, 0, 1, 0, 0, 0, 1, 0, 0, 0, 1])\n",
      "('Is the yellow object on the left?', [0, 0, 0, 0, 0, 1, 1, 0, 0, 1, 0])\n",
      "('How many objects are the same shape as the yellow object?', [0, 0, 0, 0, 0, 1, 0, 1, 0, 0, 1])\n",
      "('What shape is the object furthest from the blue object?', [0, 0, 1, 0, 0, 0, 0, 1, 0, 1, 0])\n",
      "('What shape is the object furthest from the orange object?', [0, 0, 0, 1, 0, 0, 0, 1, 0, 1, 0])\n",
      "('Is the red object on the top?', [1, 0, 0, 0, 0, 0, 1, 0, 0, 0, 1])\n",
      "('What shape is the object closest to the blue object?', [0, 0, 1, 0, 0, 0, 0, 1, 1, 0, 0])\n",
      "('What shape is the object furthest from the red object?', [1, 0, 0, 0, 0, 0, 0, 1, 0, 1, 0])\n",
      "('Is the gray object on the top?', [0, 0, 0, 0, 1, 0, 1, 0, 0, 0, 1])\n",
      "('What shape is the object closest to the green object?', [0, 1, 0, 0, 0, 0, 0, 1, 1, 0, 0])\n",
      "('Is the green object on the left?', [0, 1, 0, 0, 0, 0, 1, 0, 0, 1, 0])\n",
      "('How many objects are the same shape as the yellow object?', [0, 0, 0, 0, 0, 1, 0, 1, 0, 0, 1])\n",
      "('Is the yellow object on the top?', [0, 0, 0, 0, 0, 1, 1, 0, 0, 0, 1])\n",
      "('Is the blue object on the left?', [0, 0, 1, 0, 0, 0, 1, 0, 0, 1, 0])\n",
      "('What shape is the object furthest from the gray object?', [0, 0, 0, 0, 1, 0, 0, 1, 0, 1, 0])\n",
      "('What shape is the object furthest from the red object?', [1, 0, 0, 0, 0, 0, 0, 1, 0, 1, 0])\n",
      "('What shape is the object furthest from the gray object?', [0, 0, 0, 0, 1, 0, 0, 1, 0, 1, 0])\n",
      "('Is the orange object on the top?', [0, 0, 0, 1, 0, 0, 1, 0, 0, 0, 1])\n",
      "('What shape is the orange object?', [0, 0, 0, 1, 0, 0, 1, 0, 1, 0, 0])\n",
      "('How many objects are the same shape as the yellow object?', [0, 0, 0, 0, 0, 1, 0, 1, 0, 0, 1])\n",
      "('Is the blue object on the left?', [0, 0, 1, 0, 0, 0, 1, 0, 0, 1, 0])\n"
     ]
    }
   ],
   "source": [
    "QG = QuestionsGen()\n",
    "for _ in range(25):\n",
    "    print(QG.forward())"
   ]
  },
  {
   "cell_type": "code",
   "execution_count": null,
   "id": "dc9474ac-7d88-4be7-a067-7604c051cd56",
   "metadata": {},
   "outputs": [],
   "source": [
    "QG.question_likelihood([0, 0, 1, 0, 0, 0, 1, 0, 0, 0, 1], \"Is the blue \")"
   ]
  },
  {
   "cell_type": "code",
   "execution_count": 14,
   "id": "8c4b29ed-254d-466d-81a4-8a1e795a5919",
   "metadata": {},
   "outputs": [
    {
     "name": "stdout",
     "output_type": "stream",
     "text": [
      "tensor([0.1668, 0.1654, 0.1631, 0.1686, 0.1682, 0.1679, 0.5003, 0.4997, 0.3402,\n",
      "        0.3272, 0.3326])\n"
     ]
    }
   ],
   "source": [
    "# generate a bunch of latents to make sure they are 1 with the probability we think they should be\n",
    "all_latents = []\n",
    "for _ in range(10000):\n",
    "    _, latent = QG.forward()\n",
    "    all_latents.append(latent)\n",
    "all_latents = torch.tensor(all_latents).float()\n",
    "print(all_latents.mean(dim=0))"
   ]
  }
 ],
 "metadata": {
  "kernelspec": {
   "display_name": "Python 3",
   "language": "python",
   "name": "python3"
  },
  "language_info": {
   "codemirror_mode": {
    "name": "ipython",
    "version": 3
   },
   "file_extension": ".py",
   "mimetype": "text/x-python",
   "name": "python",
   "nbconvert_exporter": "python",
   "pygments_lexer": "ipython3",
   "version": "3.8.5"
  }
 },
 "nbformat": 4,
 "nbformat_minor": 5
}

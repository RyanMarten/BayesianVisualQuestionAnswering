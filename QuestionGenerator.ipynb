{
 "cells": [
  {
   "cell_type": "code",
   "execution_count": 10,
   "id": "8cf49abe-e9df-439c-a6d7-f2b403707814",
   "metadata": {},
   "outputs": [
    {
     "name": "stdout",
     "output_type": "stream",
     "text": [
      "Cannot import dbm.gnu: No module named '_gdbm'\n"
     ]
    },
    {
     "name": "stderr",
     "output_type": "stream",
     "text": [
      "C:\\Users\\bprys\\miniconda3\\lib\\site-packages\\pyprob\\util.py:327: UserWarning: Empirical distributions on disk may perform slow because GNU DBM is not available. Please install and configure gdbm library for Python for better speed.\n",
      "  warnings.warn('Empirical distributions on disk may perform slow because GNU DBM is not available. Please install and configure gdbm library for Python for better speed.')\n"
     ]
    }
   ],
   "source": [
    "import torch\n",
    "import pyprob #https://github.com/probprog/pyprob #!pip install pyprob\n",
    "from pyprob import Model \n",
    "from pyprob.distributions import Categorical, Uniform"
   ]
  },
  {
   "cell_type": "code",
   "execution_count": 11,
   "id": "07bb182d-e073-4d08-bbf7-b16755a7d827",
   "metadata": {
    "tags": []
   },
   "outputs": [],
   "source": [
    "# define global question template variables\n",
    "color_names = [\"red\", \"green\", \"blue\", \"orange\", \"gray\", \"yellow\"]\n",
    "non_relational_qs = [\n",
    "    \"What shape is the {} object?\",\n",
    "    \"Is the {} object on the left?\",\n",
    "    \"Is the {} object on the top?\"\n",
    "]\n",
    "relational_qs = [\n",
    "    \"What shape is the object closest to the {} object?\",\n",
    "    \"What shape is the object furthest from the {} object?\",\n",
    "    \"How many objects are the same shape as the {} object?\"\n",
    "]\n",
    "all_qs = [non_relational_qs, relational_qs]"
   ]
  },
  {
   "cell_type": "code",
   "execution_count": 12,
   "id": "c6943567-3797-46ea-a65f-9b90545dc21c",
   "metadata": {},
   "outputs": [],
   "source": [
    "class QuestionsGen(Model):\n",
    "    def __init__(self, name=\"QuestionsModel\", opt=None):\n",
    "        super().__init__(name=name)\n",
    "        self.opt = opt\n",
    "        self.colors = 6\n",
    "        \n",
    "    def compile_question(self, color, qtype, qsubtype, template):\n",
    "        # compile a question latent\n",
    "        color_vec = [0, 0, 0, 0, 0, 0]\n",
    "        type_vec = [0, 0]\n",
    "        subtype_vec = [0, 0, 0]\n",
    "        color_vec[color] = 1\n",
    "        type_vec[qtype] = 1\n",
    "        subtype_vec[qsubtype] = 1\n",
    "        question_vec = color_vec + type_vec + subtype_vec\n",
    "        \n",
    "        # get the text of the question\n",
    "        question_text = all_qs[qtype][qsubtype].format(color_names[color])\n",
    "        \n",
    "        return question_text, question_vec\n",
    "        \n",
    "    def forward(self):\n",
    "        c_i = pyprob.sample(Categorical(logits=[1 for _ in range(self.colors)]))\n",
    "        t_i = pyprob.sample(Categorical(logits=(1,1)))\n",
    "        st_i = pyprob.sample(Categorical(logits=(1,1,1)))\n",
    "        tmp_i = pyprob.sample(Categorical(logits=(1,1)))\n",
    "        return self.compile_question(c_i, t_i, st_i, tmp_i)"
   ]
  },
  {
   "cell_type": "code",
   "execution_count": 13,
   "id": "b6901c64-e668-4135-9969-06da3bf8aaf9",
   "metadata": {},
   "outputs": [
    {
     "name": "stdout",
     "output_type": "stream",
     "text": [
      "('Is the blue object on the top?', [0, 0, 1, 0, 0, 0, 1, 0, 0, 0, 1])\n",
      "('Is the blue object on the top?', [0, 0, 1, 0, 0, 0, 1, 0, 0, 0, 1])\n",
      "('What shape is the object closest to the red object?', [1, 0, 0, 0, 0, 0, 0, 1, 1, 0, 0])\n",
      "('Is the yellow object on the left?', [0, 0, 0, 0, 0, 1, 1, 0, 0, 1, 0])\n",
      "('How many objects are the same shape as the orange object?', [0, 0, 0, 1, 0, 0, 0, 1, 0, 0, 1])\n",
      "('What shape is the object closest to the green object?', [0, 1, 0, 0, 0, 0, 0, 1, 1, 0, 0])\n",
      "('What shape is the red object?', [1, 0, 0, 0, 0, 0, 1, 0, 1, 0, 0])\n",
      "('What shape is the green object?', [0, 1, 0, 0, 0, 0, 1, 0, 1, 0, 0])\n",
      "('What shape is the yellow object?', [0, 0, 0, 0, 0, 1, 1, 0, 1, 0, 0])\n",
      "('How many objects are the same shape as the green object?', [0, 1, 0, 0, 0, 0, 0, 1, 0, 0, 1])\n",
      "('What shape is the object closest to the blue object?', [0, 0, 1, 0, 0, 0, 0, 1, 1, 0, 0])\n",
      "('What shape is the orange object?', [0, 0, 0, 1, 0, 0, 1, 0, 1, 0, 0])\n",
      "('What shape is the object closest to the gray object?', [0, 0, 0, 0, 1, 0, 0, 1, 1, 0, 0])\n",
      "('What shape is the yellow object?', [0, 0, 0, 0, 0, 1, 1, 0, 1, 0, 0])\n",
      "('How many objects are the same shape as the red object?', [1, 0, 0, 0, 0, 0, 0, 1, 0, 0, 1])\n",
      "('How many objects are the same shape as the red object?', [1, 0, 0, 0, 0, 0, 0, 1, 0, 0, 1])\n",
      "('Is the blue object on the top?', [0, 0, 1, 0, 0, 0, 1, 0, 0, 0, 1])\n",
      "('What shape is the object furthest from the yellow object?', [0, 0, 0, 0, 0, 1, 0, 1, 0, 1, 0])\n",
      "('Is the red object on the left?', [1, 0, 0, 0, 0, 0, 1, 0, 0, 1, 0])\n",
      "('What shape is the object furthest from the orange object?', [0, 0, 0, 1, 0, 0, 0, 1, 0, 1, 0])\n",
      "('Is the yellow object on the left?', [0, 0, 0, 0, 0, 1, 1, 0, 0, 1, 0])\n",
      "('What shape is the object closest to the green object?', [0, 1, 0, 0, 0, 0, 0, 1, 1, 0, 0])\n",
      "('Is the gray object on the left?', [0, 0, 0, 0, 1, 0, 1, 0, 0, 1, 0])\n",
      "('What shape is the gray object?', [0, 0, 0, 0, 1, 0, 1, 0, 1, 0, 0])\n",
      "('What shape is the yellow object?', [0, 0, 0, 0, 0, 1, 1, 0, 1, 0, 0])\n"
     ]
    }
   ],
   "source": [
    "QG = QuestionsGen()\n",
    "for _ in range(25):\n",
    "    print(QG.forward())"
   ]
  },
  {
   "cell_type": "code",
   "execution_count": 14,
   "id": "8c4b29ed-254d-466d-81a4-8a1e795a5919",
   "metadata": {},
   "outputs": [
    {
     "name": "stdout",
     "output_type": "stream",
     "text": [
      "tensor([0.1668, 0.1654, 0.1631, 0.1686, 0.1682, 0.1679, 0.5003, 0.4997, 0.3402,\n",
      "        0.3272, 0.3326])\n"
     ]
    }
   ],
   "source": [
    "# generate a bunch of latents to make sure they are 1 with the probability we think they should be\n",
    "all_latents = []\n",
    "for _ in range(10000):\n",
    "    _, latent = QG.forward()\n",
    "    all_latents.append(latent)\n",
    "all_latents = torch.tensor(all_latents).float()\n",
    "print(all_latents.mean(dim=0))"
   ]
  },
  {
   "cell_type": "markdown",
   "id": "7eb99ba2-651e-458f-8555-daab360d15b2",
   "metadata": {},
   "source": [
    "# Question Similarity and Likelihood"
   ]
  },
  {
   "cell_type": "code",
   "execution_count": 15,
   "id": "39c04f29-cc77-433d-92c8-7988de5e3c08",
   "metadata": {},
   "outputs": [],
   "source": [
    "from gensim.models import KeyedVectors\n",
    "from torch.distributions.normal import Normal"
   ]
  },
  {
   "cell_type": "code",
   "execution_count": 16,
   "id": "54cbcf59-61f6-4a9a-8f50-89aa38c33d50",
   "metadata": {},
   "outputs": [],
   "source": [
    "wv = KeyedVectors.load_word2vec_format(\"GoogleNews-vectors-negative300.bin\", binary=True)"
   ]
  },
  {
   "cell_type": "code",
   "execution_count": 28,
   "id": "9256b000-0dc7-4aa9-8cc6-f213895e58d0",
   "metadata": {},
   "outputs": [],
   "source": [
    "def question_log_lik(true_q, cand_q):\n",
    "    true_vec = torch.tensor([wv[w] for w in true_q.split()]).mean(dim=0)\n",
    "    cand_vec = torch.tensor([wv[w] for w in cand_q.split()]).mean(dim=0)\n",
    "    dist = Normal(cand_vec, 0.0001)\n",
    "    return dist.log_prob(true_vec).sum()"
   ]
  },
  {
   "cell_type": "code",
   "execution_count": 29,
   "id": "973f36dd-06a1-4e9d-8b8e-440b1b8213d3",
   "metadata": {},
   "outputs": [
    {
     "data": {
      "text/plain": [
       "tensor(-3.4799e+08)"
      ]
     },
     "execution_count": 29,
     "metadata": {},
     "output_type": "execute_result"
    }
   ],
   "source": [
    "question_log_lik(\"hello\", \"hi\")"
   ]
  },
  {
   "cell_type": "code",
   "execution_count": null,
   "id": "56eca1c4-bb3d-4a0c-ae16-396a381feb0f",
   "metadata": {},
   "outputs": [],
   "source": []
  }
 ],
 "metadata": {
  "kernelspec": {
   "display_name": "Python 3",
   "language": "python",
   "name": "python3"
  },
  "language_info": {
   "codemirror_mode": {
    "name": "ipython",
    "version": 3
   },
   "file_extension": ".py",
   "mimetype": "text/x-python",
   "name": "python",
   "nbconvert_exporter": "python",
   "pygments_lexer": "ipython3",
   "version": "3.8.5"
  }
 },
 "nbformat": 4,
 "nbformat_minor": 5
}

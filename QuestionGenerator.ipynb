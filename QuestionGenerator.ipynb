{
 "cells": [
  {
   "cell_type": "code",
   "execution_count": 2,
   "id": "64c3af2f",
   "metadata": {},
   "outputs": [
    {
     "name": "stdout",
     "output_type": "stream",
     "text": [
      "Cannot import dbm.gnu: No module named '_gdbm'\n"
     ]
    },
    {
     "name": "stderr",
     "output_type": "stream",
     "text": [
      "C:\\Users\\bprys\\miniconda3\\lib\\site-packages\\pyprob\\util.py:327: UserWarning: Empirical distributions on disk may perform slow because GNU DBM is not available. Please install and configure gdbm library for Python for better speed.\n",
      "  warnings.warn('Empirical distributions on disk may perform slow because GNU DBM is not available. Please install and configure gdbm library for Python for better speed.')\n"
     ]
    }
   ],
   "source": [
    "import torch\n",
    "from gensim.models import KeyedVectors\n",
    "import pyprob #https://github.com/probprog/pyprob #!pip install pyprob\n",
    "from pyprob import Model \n",
    "from pyprob.distributions import Categorical, Uniform, Normal\n",
    "from pyprob import InferenceEngine\n",
    "import matplotlib.pyplot as plt"
   ]
  },
  {
   "cell_type": "code",
   "execution_count": 3,
   "id": "84d39790",
   "metadata": {},
   "outputs": [],
   "source": [
    "wv = KeyedVectors.load_word2vec_format(\"GoogleNews-vectors-negative300.bin\", binary=True)"
   ]
  },
  {
   "cell_type": "code",
   "execution_count": 4,
   "id": "bdb3dfed",
   "metadata": {
    "tags": []
   },
   "outputs": [],
   "source": [
    "# define global question template variables\n",
    "color_names = [\"red\", \"green\", \"blue\", \"orange\", \"gray\", \"yellow\"]\n",
    "non_relational_qs = [\n",
    "    \"What shape is the {} object?\",\n",
    "    \"Is the {} object on the left?\",\n",
    "    \"Is the {} object on the top?\"\n",
    "]\n",
    "relational_qs = [\n",
    "    \"What shape is the object closest to the {} object?\",\n",
    "    \"What shape is the object furthest from the {} object?\",\n",
    "    \"How many objects are the same shape as the {} object?\"\n",
    "]\n",
    "all_qs = [non_relational_qs, relational_qs]"
   ]
  },
  {
   "cell_type": "code",
   "execution_count": 5,
   "id": "5c84727a",
   "metadata": {},
   "outputs": [],
   "source": [
    "def text_to_vec(text):\n",
    "    return torch.tensor([wv[w] for w in text.split() if w in wv]).mean(dim=0)"
   ]
  },
  {
   "cell_type": "code",
   "execution_count": 6,
   "id": "43f502d4",
   "metadata": {},
   "outputs": [],
   "source": [
    "class QuestionsGen(Model):\n",
    "    def __init__(self, name=\"QuestionsModel\", opt=None):\n",
    "        super().__init__(name=name)\n",
    "        self.opt = opt\n",
    "        self.colors = 6\n",
    "        \n",
    "    def compile_question(self, color, qtype, qsubtype, template):\n",
    "        # compile a question latent\n",
    "        color_vec = [0, 0, 0, 0, 0, 0]\n",
    "        type_vec = [0, 0]\n",
    "        subtype_vec = [0, 0, 0]\n",
    "        color_vec[color] = 1\n",
    "        type_vec[qtype] = 1\n",
    "        subtype_vec[qsubtype] = 1\n",
    "        question_vec = color_vec + type_vec + subtype_vec\n",
    "        \n",
    "        # get the text of the question\n",
    "        question_text = all_qs[qtype][qsubtype].format(color_names[color])\n",
    "        \n",
    "        return question_text, question_vec\n",
    "        \n",
    "    def forward(self):\n",
    "        c_i = pyprob.sample(Categorical(logits=[1 for _ in range(self.colors)]))\n",
    "        t_i = pyprob.sample(Categorical(logits=(1,1)))\n",
    "        st_i = pyprob.sample(Categorical(logits=(1,1,1)))\n",
    "        tmp_i = pyprob.sample(Categorical(logits=(1,1)))\n",
    "        cand_q_text, cand_q_latent = self.compile_question(c_i, t_i, st_i, tmp_i)\n",
    "        pyprob.tag(cand_q_latent, name=\"question_latent\")\n",
    "        pyprob.tag(cand_q_text, name=\"question_text\")\n",
    "        cand_vec = text_to_vec(cand_q_text)\n",
    "        \n",
    "        pyprob.observe(Normal(cand_vec, 0.0001), name=\"observed_question\")\n",
    "        return cand_q_text, cand_q_latent"
   ]
  },
  {
   "cell_type": "code",
   "execution_count": 7,
   "id": "ad9b55f5",
   "metadata": {},
   "outputs": [
    {
     "ename": "NameError",
     "evalue": "name 'question_Tex' is not defined",
     "output_type": "error",
     "traceback": [
      "\u001b[1;31m---------------------------------------------------------------------------\u001b[0m",
      "\u001b[1;31mNameError\u001b[0m                                 Traceback (most recent call last)",
      "\u001b[1;32m<ipython-input-7-cf324279f29a>\u001b[0m in \u001b[0;36m<module>\u001b[1;34m\u001b[0m\n\u001b[0;32m      3\u001b[0m     \u001b[0mnum_traces\u001b[0m\u001b[1;33m=\u001b[0m\u001b[1;36m100\u001b[0m\u001b[1;33m,\u001b[0m\u001b[1;33m\u001b[0m\u001b[1;33m\u001b[0m\u001b[0m\n\u001b[0;32m      4\u001b[0m     \u001b[0minference_engine\u001b[0m \u001b[1;33m=\u001b[0m \u001b[0mInferenceEngine\u001b[0m\u001b[1;33m.\u001b[0m\u001b[0mIMPORTANCE_SAMPLING\u001b[0m\u001b[1;33m,\u001b[0m\u001b[1;33m\u001b[0m\u001b[1;33m\u001b[0m\u001b[0m\n\u001b[1;32m----> 5\u001b[1;33m     \u001b[0mobserve\u001b[0m \u001b[1;33m=\u001b[0m \u001b[1;33m{\u001b[0m\u001b[1;34m'observed_question'\u001b[0m\u001b[1;33m:\u001b[0m \u001b[0mtext_to_vec\u001b[0m\u001b[1;33m(\u001b[0m\u001b[0mquestion_Tex\u001b[0m\u001b[1;33m)\u001b[0m\u001b[1;33m}\u001b[0m\u001b[1;33m,\u001b[0m\u001b[1;33m\u001b[0m\u001b[1;33m\u001b[0m\u001b[0m\n\u001b[0m\u001b[0;32m      6\u001b[0m     \u001b[0minitial_trace\u001b[0m\u001b[1;33m=\u001b[0m\u001b[1;32mNone\u001b[0m\u001b[1;33m\u001b[0m\u001b[1;33m\u001b[0m\u001b[0m\n\u001b[0;32m      7\u001b[0m )\n",
      "\u001b[1;31mNameError\u001b[0m: name 'question_Tex' is not defined"
     ]
    }
   ],
   "source": [
    "model = QuestionsGen(Model)\n",
    "posterior_dist = model.posterior(\n",
    "    num_traces=100,\n",
    "    inference_engine = InferenceEngine.IMPORTANCE_SAMPLING,\n",
    "    observe = {'observed_question': text_to_vec(question_Tex)},\n",
    "    initial_trace=None\n",
    ")"
   ]
  },
  {
   "cell_type": "code",
   "execution_count": 35,
   "id": "c1642f3c",
   "metadata": {},
   "outputs": [],
   "source": [
    "def recover_question(question_text):\n",
    "    model = QuestionsGen(Model)\n",
    "    posterior_dist = model.posterior(\n",
    "        num_traces=1000,\n",
    "        inference_engine = InferenceEngine.IMPORTANCE_SAMPLING,\n",
    "        observe = {'observed_question': text_to_vec(question_text) },\n",
    "        initial_trace=None\n",
    "    )\n",
    "    recovered_question = posterior_dist.sample()[\"question_text\"]\n",
    "    return recovered_question"
   ]
  },
  {
   "cell_type": "code",
   "execution_count": 36,
   "id": "d8db9754",
   "metadata": {},
   "outputs": [],
   "source": [
    "def test_question_generalization(true_question, modified_question, colour=\"blue\"):\n",
    "    true_formatted = true_question.format(colour)\n",
    "    modified_formatted = modified_question.format(colour)\n",
    "    recovered_question = recover_question(modified_formatted)\n",
    "    if recovered_question == true_formatted:\n",
    "        return True\n",
    "    else:\n",
    "        print(f\"true question: {true_formatted}\")\n",
    "        print(f\"modified question: {modified_formatted}\")\n",
    "        print(f\"recovered question: {recovered_question}\")\n",
    "        return False"
   ]
  },
  {
   "cell_type": "code",
   "execution_count": 37,
   "id": "64070441",
   "metadata": {},
   "outputs": [],
   "source": [
    "template_pairs = [\n",
    "    (\"What shape is the {} object?\", \"What is the shape of the {} thing?\"),\n",
    "    (\"Is the {} object on the left?\", \"Is the {} object on the left-hand side?\"),\n",
    "    (\"Is the {} object on the top?\", \"Is the {} object on the top of the screen?\"),\n",
    "    (\"What shape is the object closest to the {} object?\", \"What shape is the object with the least distance to the {} object?\"),\n",
    "    (\"What shape is the object furthest from the {} object?\", \"What shape is the thing that has the greatest distance to the {} thing?\"),\n",
    "    (\"How many objects are the same shape as the {} object?\", \"How many objects have the same geometric form as the {} object?\")\n",
    "]"
   ]
  },
  {
   "cell_type": "code",
   "execution_count": 39,
   "id": "32cd6d06",
   "metadata": {},
   "outputs": [
    {
     "name": "stdout",
     "output_type": "stream",
     "text": [
      "Time spent  | Time remain.| Progress             | Trace     | ESS    | Traces/sec\n",
      "0d:00:00:01 | 0d:00:00:00 | #################### | 1000/1000 |  32.00 | 904.23       \n",
      "Time spent  | Time remain.| Progress             | Trace     | ESS    | Traces/sec\n",
      "0d:00:00:01 | 0d:00:00:00 | #################### | 1000/1000 |  23.00 | 899.30       \n",
      "Time spent  | Time remain.| Progress             | Trace     | ESS    | Traces/sec\n",
      "0d:00:00:01 | 0d:00:00:00 | #################### | 1000/1000 |  26.00 | 917.05       \n",
      "Time spent  | Time remain.| Progress             | Trace     | ESS    | Traces/sec\n",
      "0d:00:00:01 | 0d:00:00:00 | #################### | 1000/1000 |  24.00 | 941.90       \n",
      "Time spent  | Time remain.| Progress             | Trace     | ESS    | Traces/sec\n",
      "0d:00:00:01 | 0d:00:00:00 | #################### | 1000/1000 |  27.00 | 941.13       \n",
      "Time spent  | Time remain.| Progress             | Trace     | ESS    | Traces/sec\n",
      "0d:00:00:01 | 0d:00:00:00 | #################### | 1000/1000 |  24.00 | 914.17       \n",
      "pair: ('What shape is the {} object?', 'What is the shape of the {} thing?')\n",
      "pair accuracy: 6/6\n",
      "Time spent  | Time remain.| Progress             | Trace     | ESS    | Traces/sec\n",
      "0d:00:00:01 | 0d:00:00:00 | #################### | 1000/1000 |  65.00 | 661.81       \n",
      "Time spent  | Time remain.| Progress             | Trace     | ESS    | Traces/sec\n",
      "0d:00:00:01 | 0d:00:00:00 | #################### | 1000/1000 |  58.00 | 894.84       \n",
      "true question: Is the green object on the left?\n",
      "modified question: Is the green object on the left-hand side?\n",
      "recovered question: Is the green object on the top?\n",
      "Time spent  | Time remain.| Progress             | Trace     | ESS    | Traces/sec\n",
      "0d:00:00:01 | 0d:00:00:00 | #################### | 1000/1000 |  58.00 | 845.51       \n",
      "Time spent  | Time remain.| Progress             | Trace     | ESS    | Traces/sec\n",
      "0d:00:00:01 | 0d:00:00:00 | #################### | 1000/1000 |  50.00 | 893.23       \n",
      "true question: Is the orange object on the left?\n",
      "modified question: Is the orange object on the left-hand side?\n",
      "recovered question: Is the orange object on the top?\n",
      "Time spent  | Time remain.| Progress             | Trace     | ESS    | Traces/sec\n",
      "0d:00:00:01 | 0d:00:00:00 | #################### | 1000/1000 |  61.00 | 880.91       \n",
      "Time spent  | Time remain.| Progress             | Trace     | ESS    | Traces/sec\n",
      "0d:00:00:01 | 0d:00:00:00 | #################### | 1000/1000 |  78.00 | 892.74       \n",
      "true question: Is the yellow object on the left?\n",
      "modified question: Is the yellow object on the left-hand side?\n",
      "recovered question: Is the yellow object on the top?\n",
      "pair: ('Is the {} object on the left?', 'Is the {} object on the left-hand side?')\n",
      "pair accuracy: 3/6\n",
      "Time spent  | Time remain.| Progress             | Trace     | ESS    | Traces/sec\n",
      "0d:00:00:01 | 0d:00:00:00 | #################### | 1000/1000 |  53.00 | 889.04       \n",
      "true question: Is the red object on the top?\n",
      "modified question: Is the red object on the top of the screen?\n",
      "recovered question: Is the red object on the left?\n",
      "Time spent  | Time remain.| Progress             | Trace     | ESS    | Traces/sec\n",
      "0d:00:00:01 | 0d:00:00:00 | #################### | 1000/1000 |  65.00 | 899.68       \n",
      "Time spent  | Time remain.| Progress             | Trace     | ESS    | Traces/sec\n",
      "0d:00:00:01 | 0d:00:00:00 | #################### | 1000/1000 |  52.00 | 909.92       \n",
      "true question: Is the blue object on the top?\n",
      "modified question: Is the blue object on the top of the screen?\n",
      "recovered question: Is the blue object on the left?\n",
      "Time spent  | Time remain.| Progress             | Trace     | ESS    | Traces/sec\n",
      "0d:00:00:01 | 0d:00:00:00 | #################### | 1000/1000 |  52.00 | 906.47       \n",
      "Time spent  | Time remain.| Progress             | Trace     | ESS    | Traces/sec\n",
      "0d:00:00:01 | 0d:00:00:00 | #################### | 1000/1000 |  52.00 | 916.37       \n",
      "Time spent  | Time remain.| Progress             | Trace     | ESS    | Traces/sec\n",
      "0d:00:00:01 | 0d:00:00:00 | #################### | 1000/1000 |  57.00 | 637.53       \n",
      "pair: ('Is the {} object on the top?', 'Is the {} object on the top of the screen?')\n",
      "pair accuracy: 4/6\n",
      "Time spent  | Time remain.| Progress             | Trace     | ESS    | Traces/sec\n",
      "0d:00:00:01 | 0d:00:00:00 | #################### | 1000/1000 |  20.00 | 923.40       \n",
      "Time spent  | Time remain.| Progress             | Trace     | ESS    | Traces/sec\n",
      "0d:00:00:01 | 0d:00:00:00 | #################### | 1000/1000 |  22.00 | 714.27       \n",
      "Time spent  | Time remain.| Progress             | Trace     | ESS    | Traces/sec\n",
      "0d:00:00:01 | 0d:00:00:00 | #################### | 1000/1000 |  28.00 | 754.46       \n",
      "Time spent  | Time remain.| Progress             | Trace     | ESS    | Traces/sec\n",
      "0d:00:00:01 | 0d:00:00:00 | #################### | 1000/1000 |  26.00 | 850.62       \n",
      "Time spent  | Time remain.| Progress             | Trace     | ESS    | Traces/sec\n",
      "0d:00:00:01 | 0d:00:00:00 | #################### | 1000/1000 |  21.00 | 758.93       \n",
      "Time spent  | Time remain.| Progress             | Trace     | ESS    | Traces/sec\n",
      "0d:00:00:01 | 0d:00:00:00 | #################### | 1000/1000 |  34.00 | 728.66       \n",
      "pair: ('What shape is the object closest to the {} object?', 'What shape is the object with the least distance to the {} object?')\n",
      "pair accuracy: 6/6\n",
      "Time spent  | Time remain.| Progress             | Trace     | ESS    | Traces/sec\n",
      "0d:00:00:01 | 0d:00:00:00 | #################### | 1000/1000 |  29.00 | 778.81       \n",
      "true question: What shape is the object furthest from the red object?\n",
      "modified question: What shape is the thing that has the greatest distance to the red thing?\n",
      "recovered question: What shape is the object closest to the red object?\n",
      "Time spent  | Time remain.| Progress             | Trace     | ESS    | Traces/sec\n",
      "0d:00:00:01 | 0d:00:00:00 | #################### | 1000/1000 |  35.00 | 814.03       \n",
      "true question: What shape is the object furthest from the green object?\n",
      "modified question: What shape is the thing that has the greatest distance to the green thing?\n",
      "recovered question: What shape is the object closest to the green object?\n",
      "Time spent  | Time remain.| Progress             | Trace     | ESS    | Traces/sec\n",
      "0d:00:00:01 | 0d:00:00:00 | #################### | 1000/1000 |  24.00 | 728.86       \n",
      "true question: What shape is the object furthest from the blue object?\n",
      "modified question: What shape is the thing that has the greatest distance to the blue thing?\n",
      "recovered question: What shape is the object closest to the blue object?\n",
      "Time spent  | Time remain.| Progress             | Trace     | ESS    | Traces/sec\n",
      "0d:00:00:01 | 0d:00:00:00 | #################### | 1000/1000 |  25.00 | 750.75       \n",
      "true question: What shape is the object furthest from the orange object?\n",
      "modified question: What shape is the thing that has the greatest distance to the orange thing?\n",
      "recovered question: What shape is the object closest to the orange object?\n",
      "Time spent  | Time remain.| Progress             | Trace     | ESS    | Traces/sec\n",
      "0d:00:00:01 | 0d:00:00:00 | #################### | 1000/1000 |  27.00 | 761.81       \n",
      "true question: What shape is the object furthest from the gray object?\n",
      "modified question: What shape is the thing that has the greatest distance to the gray thing?\n",
      "recovered question: What shape is the object closest to the gray object?\n",
      "Time spent  | Time remain.| Progress             | Trace     | ESS    | Traces/sec\n",
      "0d:00:00:01 | 0d:00:00:00 | #################### | 1000/1000 |  32.00 | 591.69       \n",
      "true question: What shape is the object furthest from the yellow object?\n",
      "modified question: What shape is the thing that has the greatest distance to the yellow thing?\n",
      "recovered question: What shape is the object closest to the yellow object?\n",
      "pair: ('What shape is the object furthest from the {} object?', 'What shape is the thing that has the greatest distance to the {} thing?')\n",
      "pair accuracy: 0/6\n",
      "Time spent  | Time remain.| Progress             | Trace     | ESS    | Traces/sec\n",
      "0d:00:00:01 | 0d:00:00:00 | #################### | 1000/1000 |  27.00 | 692.25       \n",
      "Time spent  | Time remain.| Progress             | Trace     | ESS    | Traces/sec\n",
      "0d:00:00:01 | 0d:00:00:00 | #################### | 1000/1000 |  30.00 | 726.69       \n",
      "Time spent  | Time remain.| Progress             | Trace     | ESS    | Traces/sec\n",
      "0d:00:00:01 | 0d:00:00:00 | #################### | 1000/1000 |  33.00 | 747.56       \n",
      "Time spent  | Time remain.| Progress             | Trace     | ESS    | Traces/sec\n",
      "0d:00:00:01 | 0d:00:00:00 | #################### | 1000/1000 |  36.00 | 707.85       \n",
      "Time spent  | Time remain.| Progress             | Trace     | ESS    | Traces/sec\n",
      "0d:00:00:01 | 0d:00:00:00 | #################### | 1000/1000 |  32.00 | 752.18       \n",
      "Time spent  | Time remain.| Progress             | Trace     | ESS    | Traces/sec\n",
      "0d:00:00:01 | 0d:00:00:00 | #################### | 1000/1000 |  31.00 | 789.14       \n",
      "pair: ('How many objects are the same shape as the {} object?', 'How many objects have the same geometric form as the {} object?')\n",
      "pair accuracy: 6/6\n",
      "overall accuracy: 25/36, 0.6944444444444444\n"
     ]
    }
   ],
   "source": [
    "n_recovered = 0\n",
    "n_total = 0\n",
    "\n",
    "for pair in template_pairs:\n",
    "    pair_recovered = 0\n",
    "    pair_total = 0\n",
    "    for colour in color_names:\n",
    "        recovered = test_question_generalization(pair[0], pair[1], colour=colour)\n",
    "        if recovered:\n",
    "            n_recovered += 1\n",
    "            pair_recovered += 1\n",
    "        n_total += 1\n",
    "        pair_total += 1\n",
    "    print(f\"pair: {pair}\")\n",
    "    print(f\"pair accuracy: {pair_recovered}/{pair_total}\")\n",
    "print(f\"overall accuracy: {n_recovered}/{n_total}, {n_recovered/n_total}\")"
   ]
  },
  {
   "cell_type": "code",
   "execution_count": 40,
   "id": "fdc8eca1",
   "metadata": {},
   "outputs": [
    {
     "data": {
      "text/plain": [
       "0.6944444444444444"
      ]
     },
     "execution_count": 40,
     "metadata": {},
     "output_type": "execute_result"
    }
   ],
   "source": [
    "n_recovered/n_total"
   ]
  }
 ],
 "metadata": {
  "kernelspec": {
   "display_name": "Python 3",
   "language": "python",
   "name": "python3"
  },
  "language_info": {
   "codemirror_mode": {
    "name": "ipython",
    "version": 3
   },
   "file_extension": ".py",
   "mimetype": "text/x-python",
   "name": "python",
   "nbconvert_exporter": "python",
   "pygments_lexer": "ipython3",
   "version": "3.8.8"
  }
 },
 "nbformat": 4,
 "nbformat_minor": 5
}

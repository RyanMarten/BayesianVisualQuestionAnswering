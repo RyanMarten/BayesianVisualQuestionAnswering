{
 "cells": [
  {
   "cell_type": "code",
   "execution_count": 1,
   "id": "8cf49abe-e9df-439c-a6d7-f2b403707814",
   "metadata": {},
   "outputs": [
    {
     "name": "stdout",
     "output_type": "stream",
     "text": [
      "Cannot import dbm.gnu: No module named '_gdbm'\n"
     ]
    },
    {
     "name": "stderr",
     "output_type": "stream",
     "text": [
      "C:\\Users\\bprys\\miniconda3\\lib\\site-packages\\pyprob\\util.py:327: UserWarning: Empirical distributions on disk may perform slow because GNU DBM is not available. Please install and configure gdbm library for Python for better speed.\n",
      "  warnings.warn('Empirical distributions on disk may perform slow because GNU DBM is not available. Please install and configure gdbm library for Python for better speed.')\n"
     ]
    }
   ],
   "source": [
    "import torch\n",
    "import pyprob #https://github.com/probprog/pyprob #!pip install pyprob\n",
    "from pyprob import Model \n",
    "from pyprob.distributions import Categorical, Uniform"
   ]
  },
  {
   "cell_type": "code",
   "execution_count": 2,
   "id": "07bb182d-e073-4d08-bbf7-b16755a7d827",
   "metadata": {
    "tags": []
   },
   "outputs": [],
   "source": [
    "# define global question template variables\n",
    "color_names = [\"red\", \"green\", \"blue\", \"orange\", \"gray\", \"yellow\"]\n",
    "non_relational_qs = [\n",
    "    \"What shape is the {} object?\",\n",
    "    \"Is the {} object on the left?\",\n",
    "    \"Is the {} object on the top?\"\n",
    "]\n",
    "relational_qs = [\n",
    "    \"What shape is the object closest to the {} object?\",\n",
    "    \"What shape is the object furthest from the {} object?\",\n",
    "    \"How many objects are the same shape as the {} object?\"\n",
    "]\n",
    "all_qs = [non_relational_qs, relational_qs]"
   ]
  },
  {
   "cell_type": "code",
   "execution_count": 3,
   "id": "c6943567-3797-46ea-a65f-9b90545dc21c",
   "metadata": {},
   "outputs": [],
   "source": [
    "class QuestionsGen(Model):\n",
    "    def __init__(self, name=\"QuestionsModel\", opt=None):\n",
    "        super().__init__(name=name)\n",
    "        self.opt = opt\n",
    "        self.colors = 6\n",
    "        \n",
    "    def compile_question(self, color, qtype, qsubtype, template):\n",
    "        # compile a question latent\n",
    "        color_vec = [0, 0, 0, 0, 0, 0]\n",
    "        type_vec = [0, 0]\n",
    "        subtype_vec = [0, 0, 0]\n",
    "        color_vec[color] = 1\n",
    "        type_vec[qtype] = 1\n",
    "        subtype_vec[qsubtype] = 1\n",
    "        question_vec = color_vec + type_vec + subtype_vec\n",
    "        \n",
    "        # get the text of the question\n",
    "        question_text = all_qs[qtype][qsubtype].format(color_names[color])\n",
    "        \n",
    "        return question_text, question_vec\n",
    "        \n",
    "    def forward(self):\n",
    "        c_i = pyprob.sample(Categorical(logits=[1 for _ in range(self.colors)]))\n",
    "        t_i = pyprob.sample(Categorical(logits=(1,1)))\n",
    "        st_i = pyprob.sample(Categorical(logits=(1,1,1)))\n",
    "        tmp_i = pyprob.sample(Categorical(logits=(1,1)))\n",
    "        return self.compile_question(c_i, t_i, st_i, tmp_i)"
   ]
  },
  {
   "cell_type": "code",
   "execution_count": 4,
   "id": "b6901c64-e668-4135-9969-06da3bf8aaf9",
   "metadata": {},
   "outputs": [
    {
     "name": "stdout",
     "output_type": "stream",
     "text": [
      "('What shape is the object closest to the gray object?', [0, 0, 0, 0, 1, 0, 0, 1, 1, 0, 0])\n",
      "('Is the green object on the top?', [0, 1, 0, 0, 0, 0, 1, 0, 0, 0, 1])\n",
      "('What shape is the object furthest from the yellow object?', [0, 0, 0, 0, 0, 1, 0, 1, 0, 1, 0])\n",
      "('What shape is the object closest to the yellow object?', [0, 0, 0, 0, 0, 1, 0, 1, 1, 0, 0])\n",
      "('How many objects are the same shape as the yellow object?', [0, 0, 0, 0, 0, 1, 0, 1, 0, 0, 1])\n",
      "('What shape is the orange object?', [0, 0, 0, 1, 0, 0, 1, 0, 1, 0, 0])\n",
      "('What shape is the red object?', [1, 0, 0, 0, 0, 0, 1, 0, 1, 0, 0])\n",
      "('Is the blue object on the top?', [0, 0, 1, 0, 0, 0, 1, 0, 0, 0, 1])\n",
      "('What shape is the blue object?', [0, 0, 1, 0, 0, 0, 1, 0, 1, 0, 0])\n",
      "('What shape is the green object?', [0, 1, 0, 0, 0, 0, 1, 0, 1, 0, 0])\n",
      "('Is the red object on the left?', [1, 0, 0, 0, 0, 0, 1, 0, 0, 1, 0])\n",
      "('What shape is the object furthest from the yellow object?', [0, 0, 0, 0, 0, 1, 0, 1, 0, 1, 0])\n",
      "('What shape is the object furthest from the orange object?', [0, 0, 0, 1, 0, 0, 0, 1, 0, 1, 0])\n",
      "('What shape is the object closest to the gray object?', [0, 0, 0, 0, 1, 0, 0, 1, 1, 0, 0])\n",
      "('What shape is the yellow object?', [0, 0, 0, 0, 0, 1, 1, 0, 1, 0, 0])\n",
      "('Is the blue object on the top?', [0, 0, 1, 0, 0, 0, 1, 0, 0, 0, 1])\n",
      "('What shape is the yellow object?', [0, 0, 0, 0, 0, 1, 1, 0, 1, 0, 0])\n",
      "('What shape is the yellow object?', [0, 0, 0, 0, 0, 1, 1, 0, 1, 0, 0])\n",
      "('Is the orange object on the left?', [0, 0, 0, 1, 0, 0, 1, 0, 0, 1, 0])\n",
      "('Is the red object on the left?', [1, 0, 0, 0, 0, 0, 1, 0, 0, 1, 0])\n",
      "('What shape is the yellow object?', [0, 0, 0, 0, 0, 1, 1, 0, 1, 0, 0])\n",
      "('How many objects are the same shape as the green object?', [0, 1, 0, 0, 0, 0, 0, 1, 0, 0, 1])\n",
      "('Is the orange object on the left?', [0, 0, 0, 1, 0, 0, 1, 0, 0, 1, 0])\n",
      "('How many objects are the same shape as the gray object?', [0, 0, 0, 0, 1, 0, 0, 1, 0, 0, 1])\n",
      "('What shape is the object closest to the blue object?', [0, 0, 1, 0, 0, 0, 0, 1, 1, 0, 0])\n"
     ]
    }
   ],
   "source": [
    "QG = QuestionsGen()\n",
    "for _ in range(25):\n",
    "    print(QG.forward())"
   ]
  },
  {
   "cell_type": "code",
   "execution_count": 5,
   "id": "8c4b29ed-254d-466d-81a4-8a1e795a5919",
   "metadata": {},
   "outputs": [
    {
     "name": "stdout",
     "output_type": "stream",
     "text": [
      "tensor([0.1657, 0.1715, 0.1600, 0.1734, 0.1639, 0.1655, 0.4973, 0.5027, 0.3354,\n",
      "        0.3282, 0.3364])\n"
     ]
    }
   ],
   "source": [
    "# generate a bunch of latents to make sure they are 1 with the probability we think they should be\n",
    "all_latents = []\n",
    "for _ in range(10000):\n",
    "    _, latent = QG.forward()\n",
    "    all_latents.append(latent)\n",
    "all_latents = torch.tensor(all_latents).float()\n",
    "print(all_latents.mean(dim=0))"
   ]
  }
 ],
 "metadata": {
  "kernelspec": {
   "display_name": "Python 3",
   "language": "python",
   "name": "python3"
  },
  "language_info": {
   "codemirror_mode": {
    "name": "ipython",
    "version": 3
   },
   "file_extension": ".py",
   "mimetype": "text/x-python",
   "name": "python",
   "nbconvert_exporter": "python",
   "pygments_lexer": "ipython3",
   "version": "3.8.5"
  }
 },
 "nbformat": 4,
 "nbformat_minor": 5
}
